{
 "cells": [
  {
   "attachments": {},
   "cell_type": "markdown",
   "metadata": {},
   "source": [
    "# Procesamiento de Lenguaje\n",
    "## GPT-muffin"
   ]
  },
  {
   "cell_type": "code",
   "execution_count": 135,
   "metadata": {},
   "outputs": [],
   "source": [
    "from gensim.models import KeyedVectors\n",
    "import re\n",
    "from gensim import downloader\n",
    "from gensim.models import Word2Vec\n"
   ]
  },
  {
   "attachments": {},
   "cell_type": "markdown",
   "metadata": {},
   "source": [
    "1. Cargue los pesos pre-entrenados de 'word2vec-google-news-300'. Puede obtenerlos usando gensim.downloader.load('word2vec-google-news-300') o descargándolos manualmente de otra fuente."
   ]
  },
  {
   "cell_type": "code",
   "execution_count": 136,
   "metadata": {},
   "outputs": [],
   "source": [
    "# Cargar el modelo preentrenado word2vec-google-news-300\n",
    "model = downloader.load('word2vec-google-news-300')"
   ]
  },
  {
   "cell_type": "code",
   "execution_count": 137,
   "metadata": {},
   "outputs": [
    {
     "name": "stdout",
     "output_type": "stream",
     "text": [
      "Palabras más similares a 'muffin':\n",
      "muffins: 0.6586\n",
      "blueberry_muffin: 0.6340\n",
      "hamburger_bun: 0.6315\n",
      "scone: 0.6308\n",
      "croissant: 0.6291\n",
      "oatmeal_cookie: 0.6288\n",
      "bagel: 0.6188\n",
      "bran_muffin: 0.6149\n",
      "red_velvet_cupcake: 0.6067\n",
      "corn_muffin: 0.6019\n"
     ]
    }
   ],
   "source": [
    "# Encontrar las 10 palabras más similares a 'muffin'\n",
    "similar_words = model.most_similar('muffin', topn=10)\n",
    "print(\"Palabras más similares a 'muffin':\")\n",
    "for word, similarity in similar_words:\n",
    "    print(f\"{word}: {similarity:.4f}\")"
   ]
  },
  {
   "attachments": {},
   "cell_type": "markdown",
   "metadata": {},
   "source": [
    "2. Cree una función que devuelva la similaridad entre la ultima palabra de una oración y la palabra \"muffin\" (gensim tiene muchos métodos que pueden ayudar)."
   ]
  },
  {
   "cell_type": "code",
   "execution_count": 138,
   "metadata": {},
   "outputs": [
    {
     "name": "stdout",
     "output_type": "stream",
     "text": [
      "La similitud entre 'cake' y 'muffin' es: 0.4687\n"
     ]
    }
   ],
   "source": [
    "# Función para tokenizar una oración y obtener la última palabra\n",
    "def get_last_word(sentence):\n",
    "    words = re.findall(r\"\\w+(?:'\\w+)?|[^\\w\\s]\", sentence.lower())\n",
    "    return words[-1] if words else None\n",
    "\n",
    "# Función para calcular la similaridad entre la última palabra de una oración y \"muffin\"\n",
    "def similarity_with_muffin(sentence, model, target_word='muffin'):\n",
    "    last_word = get_last_word(sentence)\n",
    "    if last_word in model:\n",
    "        similarity = model.similarity(last_word, target_word)\n",
    "        return similarity, last_word\n",
    "    else:\n",
    "        return None\n",
    "\n",
    "# Ejemplo de uso\n",
    "sentence = \"Last night I ate a vanilla cake\"\n",
    "similarity, ultima_palabra = similarity_with_muffin(sentence, model)\n",
    "\n",
    "if similarity is not None:\n",
    "    print(f\"La similitud entre '{ultima_palabra}' y 'muffin' es: {similarity:.4f}\")\n",
    "else:\n",
    "    print(\"La última palabra no está en el vocabulario del modelo.\")\n"
   ]
  },
  {
   "attachments": {},
   "cell_type": "markdown",
   "metadata": {},
   "source": [
    "3. Proponga e implemente un método para encontrar el umbral de similitud optimo.\n"
   ]
  },
  {
   "cell_type": "code",
   "execution_count": 139,
   "metadata": {},
   "outputs": [],
   "source": [
    "# Función para tokenizar una oración y obtener la última palabra\n",
    "def get_last_word(sentence):\n",
    "    words = re.findall(r\"\\w+(?:'\\w+)?|[^\\w\\s]\", sentence.lower())\n",
    "    return words[-1] if words else None\n",
    "\n",
    "# Definir los targets, uso la palabra en plural como target también ya que los muffins suelen venir en conjunto\n",
    "targets = ['muffin', 'muffins']\n",
    "def similarity_with_targets(sentence, model, targets):\n",
    "    last_word = get_last_word(sentence)\n",
    "    similarities = []\n",
    "    if last_word in model: \n",
    "        for target in targets:\n",
    "            similarity = model.similarity(last_word, target)\n",
    "            similarities.append(similarity)\n",
    "        return similarities\n",
    "    else: \n",
    "        return None\n",
    "\n",
    "# Lista de oraciones para probar y si deberían pasar el umbral o no (según la lógica humana)\n",
    "sentences = [\n",
    "    \"✅ - She loves trying new recipes, now she's experimenting with different types of dessert\",\n",
    "    \"✅ - He couldn't resist the smell of a freshly baked cookie\",\n",
    "    \"❌ - The festival featured music, games, and plenty of ice cream\",\n",
    "    \"✅ - They spent the afternoon shopping for ingredients to bake a decadent cake\",\n",
    "    \"❌ - They got toghether to cook a pizza\",\n",
    "    \"✅ - She started a blog to share her passion for creating gourmet chocolate\",\n",
    "    \"✅ - After a long day at work, she craved comfort food like warm brownies with that one vanilla cupcake\",\n",
    "    \"✅ - I wonder if I could make that pasta\",\n",
    "    \"✅ - They traveled to different cities to taste famous desserts like New York cheesecake\",\n",
    "    \"❌ - That was delic¡ous\",\n",
    "    \"✅ - The party had a variety of desserts, including cupcakes and fruit tarts\",\n",
    "    \"❌ - You're so sweet\"\n",
    "    ]"
   ]
  },
  {
   "cell_type": "code",
   "execution_count": 140,
   "metadata": {},
   "outputs": [
    {
     "name": "stdout",
     "output_type": "stream",
     "text": [
      "❌No pasa el umbral: ✅ - She loves trying new recipes, now she's experimenting with different types of dessert\n",
      "❌No pasa el umbral: ✅ - He couldn't resist the smell of a freshly baked cookie\n",
      "❌No pasa el umbral: ❌ - The festival featured music, games, and plenty of ice cream\n",
      "❌No pasa el umbral: ✅ - They spent the afternoon shopping for ingredients to bake a decadent cake\n",
      "❌No pasa el umbral: ❌ - They got toghether to cook a pizza\n",
      "❌No pasa el umbral: ✅ - She started a blog to share her passion for creating gourmet chocolate\n",
      "❌No pasa el umbral: ✅ - After a long day at work, she craved comfort food like warm brownies with that one vanilla cupcake\n",
      "❌No pasa el umbral: ✅ - I wonder if I could make that pasta\n",
      "✅Pasa el umbral: ✅ - They traveled to different cities to taste famous desserts like New York cheesecake\n",
      "❌No pasa el umbral: ❌ - That was delic¡ous\n",
      "❌No pasa el umbral: ✅ - The party had a variety of desserts, including cupcakes and fruit tarts\n",
      "❌No pasa el umbral: ❌ - You're so sweet\n"
     ]
    }
   ],
   "source": [
    "#intento con un umbral de 60% de similitud\n",
    "threshold = 0.6   \n",
    "# Evaluar cada oración\n",
    "for sentence in sentences:\n",
    "    # Calcular similitud con cada target\n",
    "    similarities = similarity_with_targets(sentence, model, targets)\n",
    " # Verificar si alguna similitud supera el umbral\n",
    "    if any(similarity >= threshold for similarity in similarities):\n",
    "        print(f\"✅Pasa el umbral: {sentence}\")\n",
    "    else:\n",
    "        print(f\"❌No pasa el umbral: {sentence}\")"
   ]
  },
  {
   "cell_type": "code",
   "execution_count": 141,
   "metadata": {},
   "outputs": [
    {
     "name": "stdout",
     "output_type": "stream",
     "text": [
      "✅Pasa el umbral: ✅ - She loves trying new recipes, now she's experimenting with different types of dessert\n",
      "✅Pasa el umbral: ✅ - He couldn't resist the smell of a freshly baked cookie\n",
      "❌No pasa el umbral: ❌ - The festival featured music, games, and plenty of ice cream\n",
      "❌No pasa el umbral: ✅ - They spent the afternoon shopping for ingredients to bake a decadent cake\n",
      "❌No pasa el umbral: ❌ - They got toghether to cook a pizza\n",
      "✅Pasa el umbral: ✅ - She started a blog to share her passion for creating gourmet chocolate\n",
      "✅Pasa el umbral: ✅ - After a long day at work, she craved comfort food like warm brownies with that one vanilla cupcake\n",
      "❌No pasa el umbral: ✅ - I wonder if I could make that pasta\n",
      "✅Pasa el umbral: ✅ - They traveled to different cities to taste famous desserts like New York cheesecake\n",
      "❌No pasa el umbral: ❌ - That was delic¡ous\n",
      "✅Pasa el umbral: ✅ - The party had a variety of desserts, including cupcakes and fruit tarts\n",
      "❌No pasa el umbral: ❌ - You're so sweet\n"
     ]
    }
   ],
   "source": [
    "#como rechazó la mayoría de las palabras finales intento con un umbral de 50% de similitud\n",
    "threshold = 0.5   \n",
    "# Evaluar cada oración\n",
    "for sentence in sentences:\n",
    "    # Calcular similitud con cada target\n",
    "    similarities = similarity_with_targets(sentence, model, targets)\n",
    " # Verificar si alguna similitud supera el umbral\n",
    "    if any(similarity >= threshold for similarity in similarities):\n",
    "        print(f\"✅Pasa el umbral: {sentence}\")\n",
    "    else:\n",
    "        print(f\"❌No pasa el umbral: {sentence}\")"
   ]
  },
  {
   "cell_type": "code",
   "execution_count": 142,
   "metadata": {},
   "outputs": [
    {
     "name": "stdout",
     "output_type": "stream",
     "text": [
      "✅Pasa el umbral: ✅ - She loves trying new recipes, now she's experimenting with different types of dessert\n",
      "✅Pasa el umbral: ✅ - He couldn't resist the smell of a freshly baked cookie\n",
      "❌No pasa el umbral: ❌ - The festival featured music, games, and plenty of ice cream\n",
      "✅Pasa el umbral: ✅ - They spent the afternoon shopping for ingredients to bake a decadent cake\n",
      "✅Pasa el umbral: ❌ - They got toghether to cook a pizza\n",
      "✅Pasa el umbral: ✅ - She started a blog to share her passion for creating gourmet chocolate\n",
      "✅Pasa el umbral: ✅ - After a long day at work, she craved comfort food like warm brownies with that one vanilla cupcake\n",
      "✅Pasa el umbral: ✅ - I wonder if I could make that pasta\n",
      "✅Pasa el umbral: ✅ - They traveled to different cities to taste famous desserts like New York cheesecake\n",
      "❌No pasa el umbral: ❌ - That was delic¡ous\n",
      "✅Pasa el umbral: ✅ - The party had a variety of desserts, including cupcakes and fruit tarts\n",
      "❌No pasa el umbral: ❌ - You're so sweet\n"
     ]
    }
   ],
   "source": [
    "#intento con un umbral de 40% de similitud\n",
    "threshold = 0.4   \n",
    "# Evaluar cada oración\n",
    "for sentence in sentences:\n",
    "    # Calcular similitud con cada target\n",
    "    similarities = similarity_with_targets(sentence, model, targets)\n",
    " # Verificar si alguna similitud supera el umbral\n",
    "    if any(similarity >= threshold for similarity in similarities):\n",
    "        print(f\"✅Pasa el umbral: {sentence}\")\n",
    "    else:\n",
    "        print(f\"❌No pasa el umbral: {sentence}\")"
   ]
  },
  {
   "attachments": {},
   "cell_type": "markdown",
   "metadata": {},
   "source": [
    "Como con el 0.4 se aceptan cosas que no deberian y en el 0.5 se rechazan las que sí son aceptables intento con un umbral de 45% de similitud\n"
   ]
  },
  {
   "cell_type": "code",
   "execution_count": 143,
   "metadata": {},
   "outputs": [
    {
     "name": "stdout",
     "output_type": "stream",
     "text": [
      "✅Pasa el umbral: ✅ - She loves trying new recipes, now she's experimenting with different types of dessert\n",
      "✅Pasa el umbral: ✅ - He couldn't resist the smell of a freshly baked cookie\n",
      "❌No pasa el umbral: ❌ - The festival featured music, games, and plenty of ice cream\n",
      "✅Pasa el umbral: ✅ - They spent the afternoon shopping for ingredients to bake a decadent cake\n",
      "❌No pasa el umbral: ❌ - They got toghether to cook a pizza\n",
      "✅Pasa el umbral: ✅ - She started a blog to share her passion for creating gourmet chocolate\n",
      "✅Pasa el umbral: ✅ - After a long day at work, she craved comfort food like warm brownies with that one vanilla cupcake\n",
      "✅Pasa el umbral: ✅ - I wonder if I could make that pasta\n",
      "✅Pasa el umbral: ✅ - They traveled to different cities to taste famous desserts like New York cheesecake\n",
      "❌No pasa el umbral: ❌ - That was delic¡ous\n",
      "✅Pasa el umbral: ✅ - The party had a variety of desserts, including cupcakes and fruit tarts\n",
      "❌No pasa el umbral: ❌ - You're so sweet\n"
     ]
    }
   ],
   "source": [
    "threshold = 0.45 \n",
    "# Evaluar cada oración\n",
    "for sentence in sentences:\n",
    "    # Calcular similitud con cada target\n",
    "    similarities = similarity_with_targets(sentence, model, targets)\n",
    " # Verificar si alguna similitud supera el umbral\n",
    "    if any(similarity >= threshold for similarity in similarities):\n",
    "        print(f\"✅Pasa el umbral: {sentence}\")\n",
    "    else:\n",
    "        print(f\"❌No pasa el umbral: {sentence}\")"
   ]
  },
  {
   "attachments": {},
   "cell_type": "markdown",
   "metadata": {},
   "source": [
    "Puede que no sea la manera más óptima de encontrar el umrbal pero con el prueba y error se determina que el umbral de similitud debería superar el 0.45 o 45% para sea correcto cambair la últimá palabra por 'muffin' o 'muffins'"
   ]
  },
  {
   "attachments": {},
   "cell_type": "markdown",
   "metadata": {},
   "source": [
    "4. Cree una función que devuelva 'True' si la última palabra de una oración puede ser reemplazada por 'muffin'.s\n"
   ]
  },
  {
   "cell_type": "code",
   "execution_count": 144,
   "metadata": {},
   "outputs": [
    {
     "name": "stdout",
     "output_type": "stream",
     "text": [
      "True\n",
      "True\n",
      "False\n",
      "True\n",
      "False\n",
      "True\n",
      "True\n",
      "True\n",
      "True\n",
      "False\n",
      "True\n",
      "False\n"
     ]
    }
   ],
   "source": [
    "sentences = [\n",
    "    \"✅ - She loves trying new recipes, now she's experimenting with different types of dessert\",\n",
    "    \"✅ - He couldn't resist the smell of a freshly baked cookie\",\n",
    "    \"❌ - The festival featured music, games, and plenty of ice cream\",\n",
    "    \"✅ - They spent the afternoon shopping for ingredients to bake a decadent cake\",\n",
    "    \"❌ - They got toghether to cook a pizza\",\n",
    "    \"✅ - She started a blog to share her passion for creating gourmet chocolate\",\n",
    "    \"✅ - After a long day at work, she craved comfort food like warm brownies with that one vanilla cupcake\",\n",
    "    \"✅ - I wonder if I could make that pasta\",\n",
    "    \"✅ - They traveled to different cities to taste famous desserts like New York cheesecake\",\n",
    "    \"❌ - That was delic¡ous\",\n",
    "    \"✅ - The party had a variety of desserts, including cupcakes and fruit tarts\",\n",
    "    \"❌ - You're so sweet\"\n",
    "    ]\n",
    "\n",
    "# Función para tokenizar una oración y obtener la última palabra\n",
    "def get_last_word(sentence):\n",
    "    words = re.findall(r\"\\w+(?:'\\w+)?|[^\\w\\s]\", sentence.lower())\n",
    "    return words[-1] if words else None\n",
    "\n",
    "# Definir los targets, uso la palabra en plural como target también ya que los muffins suelen venir en conjunto\n",
    "targets = ['muffin', 'muffins']\n",
    "def similarity_with_targets(sentence, model, targets):\n",
    "    last_word = get_last_word(sentence)\n",
    "    similarities = []\n",
    "    if last_word in model: \n",
    "        for target in targets:\n",
    "            similarity = model.similarity(last_word, target)\n",
    "            similarities.append(similarity)\n",
    "        return similarities\n",
    "    else: \n",
    "        return None\n",
    "    \n",
    "threshold = 0.45 \n",
    "\n",
    "for sentence in sentences:\n",
    "    similarities = similarity_with_targets(sentence, model, targets)\n",
    "    if any(similarity >= threshold for similarity in similarities):\n",
    "            print(\"True\")\n",
    "    else:\n",
    "            print(\"False\")\n"
   ]
  },
  {
   "attachments": {},
   "cell_type": "markdown",
   "metadata": {},
   "source": [
    "5. Testee su modelo con las siguientes oraciones:"
   ]
  },
  {
   "cell_type": "code",
   "execution_count": 145,
   "metadata": {},
   "outputs": [
    {
     "name": "stdout",
     "output_type": "stream",
     "text": [
      "I'm going to eat a tasty cupcake - True\n",
      "I was driving my car - False\n",
      "The tree is green - False\n",
      "It was delicious to eat that cake - True\n",
      "This is not arborio rice it is carnaroli rice - False\n",
      "Inside the box there was a cat - False\n",
      "Uhh, it's pronounced bagel - True\n"
     ]
    }
   ],
   "source": [
    "sentences = [\n",
    "\"I'm going to eat a tasty cupcake\", #-> True\n",
    "\"I was driving my car\", #-> False\n",
    "\"The tree is green\", #-> False\n",
    "\"It was delicious to eat that cake\", #-> True\n",
    "\"This is not arborio rice it is carnaroli rice\", #-> ?\n",
    "\"Inside the box there was a cat\", #-> ?\n",
    "\"Uhh, it's pronounced bagel\", #-> ?, #-> ?\n",
    "]\n",
    "\n",
    "\n",
    "# Función para tokenizar una oración y obtener la última palabra\n",
    "def get_last_word(sentence):\n",
    "    words = re.findall(r\"\\w+(?:'\\w+)?|[^\\w\\s]\", sentence.lower())\n",
    "    return words[-1] if words else None\n",
    "\n",
    "# Definir los targets, uso la palabra en plural como target también ya que los muffins suelen venir en conjunto\n",
    "targets = ['muffin', 'muffins']\n",
    "def similarity_with_targets(sentence, model, targets):\n",
    "    last_word = get_last_word(sentence)\n",
    "    similarities = []\n",
    "    if last_word in model: \n",
    "        for target in targets:\n",
    "            similarity = model.similarity(last_word, target)\n",
    "            similarities.append(similarity)\n",
    "        return similarities\n",
    "    else: \n",
    "        return None\n",
    "    \n",
    "threshold = 0.45 \n",
    "\n",
    "for sentence in sentences:\n",
    "    similarities = similarity_with_targets(sentence, model, targets)\n",
    "    if any(similarity >= threshold for similarity in similarities):\n",
    "            print(f\"{sentence} - True\")\n",
    "    else:\n",
    "            print(f\"{sentence} - False\")"
   ]
  },
  {
   "attachments": {},
   "cell_type": "markdown",
   "metadata": {},
   "source": [
    "6. ¿Qué piensa acerca de los casos con signo de interrogación? ¿Qué podría hacer para mejorar su modelo?\n",
    "* \"This is not arborio rice it is carnaroli rice\" -> ?\n",
    "* \"Inside the box there was a cat\" -> ?\n",
    "* \"Uhh, it's pronounced bagel\" -> ?\n",
    "* \"t is the last letter of the word croissant\" -> ?\n"
   ]
  },
  {
   "attachments": {},
   "cell_type": "markdown",
   "metadata": {},
   "source": [
    "En estas cuatro oraciones es notable como la última palabra, aún si se reemplaza por '*muffin*', ya que su coherencia depende del contexto, del significado de la oración. No se pueden interambiar palabras por otras únicamente porque pertenecen a la misma clase o tienen vectores parecidos. Aquí va una explicación con los siguientes contraejemplos: "
   ]
  },
  {
   "cell_type": "code",
   "execution_count": 151,
   "metadata": {},
   "outputs": [
    {
     "name": "stdout",
     "output_type": "stream",
     "text": [
      "Similaridad entre 'rice' y 'corn': 0.6120111346244812 \n",
      "Similaridad entre 'cat' y 'elephant': 0.4638771414756775 \n",
      "Similaridad entre 'bagel' y 'donut': 0.6141875386238098 \n",
      "Similaridad entre 'croissant' y 'crêpes': 0.6461926102638245 \n",
      "Similaridad entre 'croissant' y 'net': 0.0484132394194603 \n"
     ]
    }
   ],
   "source": [
    "similarity_1 = model.similarity('rice', 'corn')\n",
    "print (f\"Similaridad entre 'rice' y 'corn': {similarity_1} \")\n",
    "\n",
    "similarity_2 = model.similarity('cat', 'elephant')\n",
    "print (f\"Similaridad entre 'cat' y 'elephant': {similarity_2} \")\n",
    "\n",
    "similarity_3 = model.similarity('bagel', 'donut')\n",
    "print (f\"Similaridad entre 'bagel' y 'donut': {similarity_3} \")\n",
    "\n",
    "similarity_4 = model.similarity('croissant', 'crêpes')\n",
    "print (f\"Similaridad entre 'croissant' y 'crêpes': {similarity_4} \")\n",
    "\n",
    "similarity_5 = model.similarity('croissant', 'net')\n",
    "print (f\"Similaridad entre 'croissant' y 'net': {similarity_5} \")"
   ]
  },
  {
   "attachments": {},
   "cell_type": "markdown",
   "metadata": {},
   "source": [
    "En el caso de la oración **\"This is not arborio rice it is carnaroli *rice*\"**, según el modelo entrenado y con el umbral de similidad establecido ($0.45$), se podría aceptar con certidumbre que puede reemplazarse la palabra *rice* (arroz) por *corn* (maíz), ya que su similaridad es de $0.61$ (aceptable por el umbral). Pero la oración habla de diferentes tipos de arroz, no de maíz. Entonces no es coherente decir que \"This is not arborio rice it is carnaroli *corn*\", porque no existe el maíz carnaroli. No se le puede atribuir el adjetivo/clasificación porque no le pertenece.\n",
    "\n",
    "\n",
    "En la segunda oración, también ocurre una ambiguedad si se intercambia la palabra *cat* (gato) por *elephant* (elefante), aún si su similaridad es aceptada por el umbral. El mensaje que dice que \"Dentro de la caja hay un **gato**\" puede tener sentido, mientras que el de \"Dentro de la caja hay un **elefante**\" carece completamente de este. La semántica de las palabras puede ser parecida pero no se debe dejar de lado el sentido de la oración.\n",
    "\n",
    "\n",
    "El tercer caso, la oración **\"Uhh, it's pronounced bagel\"**, si se le reemplaza la última palabra por cualquier otra podría tener sentido, si sucede en una conversación que no mantiene un hilo razonable. Ya que si alguien pronuncia mal la palabra *bagel*, no sería lógico que se le corriga diciendo que \"Se pronuncia *donut*\"; aún si ambas palabras tienen vectores muy parecidos (similaridad de $0.61$). La oración se refiere directamente a la palabra, no se la puede reemplazar. \n",
    "\n",
    "Finalmente, en el último caso, ocurre similar que el caso del *bagel*; la oración habla específicamente de la palabra final, de su ortografía. Entonces, no tiene sentido cambiar la palabra por una que se utiliza en contextos similares, como lo es la pastelería; sino que se debería buscar la similitud ortográfica, porque de eso habla la oración. Si las palabras, semanticamente son similares, como es este caso, van a tener una *similarity* alta, pero la oración no va a tener sentido. La palabra *net* (red) tiene una similaridad menor al $0.05$ con *bagel*, pero en el contexto de la oración está mejor colocada que *donut*, de similaridad semántica de $0.65$ con *bagel*."
   ]
  }
 ],
 "metadata": {
  "kernelspec": {
   "display_name": "Python 3",
   "language": "python",
   "name": "python3"
  },
  "language_info": {
   "codemirror_mode": {
    "name": "ipython",
    "version": 3
   },
   "file_extension": ".py",
   "mimetype": "text/x-python",
   "name": "python",
   "nbconvert_exporter": "python",
   "pygments_lexer": "ipython3",
   "version": "3.11.6"
  },
  "orig_nbformat": 4
 },
 "nbformat": 4,
 "nbformat_minor": 2
}
